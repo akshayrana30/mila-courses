{
  "nbformat": 4,
  "nbformat_minor": 0,
  "metadata": {
    "colab": {
      "name": "demo 8.ipynb",
      "provenance": [],
      "collapsed_sections": []
    },
    "kernelspec": {
      "name": "python3",
      "display_name": "Python 3"
    },
    "accelerator": "GPU"
  },
  "cells": [
    {
      "cell_type": "markdown",
      "metadata": {
        "id": "ZrhnR4W-dD7R",
        "colab_type": "text"
      },
      "source": [
        "# Demo 8 - Intro to PyTorch\n",
        "\n",
        "Previously, we've been using `numpy` to do mathematical calculations and make our statistical machine learning models run quickly. But now, we'll be looking at neural networks, where we will want to mostly calculate lots and lots of neurons. Since our neurons are usually in the form $f(x) = h(wx + b)$ we tend to deal with __large matrix multiplications__ (as well as additions, etc...). Since our standard method of training is SGD, with mini-batches, we want to do these matrix multiplications across our whole batch, and the fastest way to do that is in __parallel__. The best hardware for that isn't the CPU we're used to working with but a __GPU!__ There are a number of libraries that are useful for creating neural networks and running them on GPU (Keras/Tensorflow, Chainer,...) but we will be using `PyTorch`\n",
        "\n",
        "/\n",
        "\n",
        "On a déjà utilisé numpy pour faire les calculs et accélérer notres modèles d'apprentissage machine. Mais maintenant, on va considerer les résaux de neurones, où la majorité de calculs est pour les neurones  𝑓(𝑥)=ℎ(𝑤𝑥+𝑏)  sous forme de grandes mutliplications de matrices. Parce qu'on utilise SGD avec mini-batches, on veut faire ces calculs en parallèle. Le CPU qu'on a utilisé n'est pas le meilleur matériel pour faire ces calculs, c'est mieux si on utilise le GPU. Il y a beaucoup de bibliothèques qu'on peut utiliser mais nous allons utiliser PyTorch"
      ]
    },
    {
      "cell_type": "code",
      "metadata": {
        "id": "C7F1qZIhBnHM",
        "colab_type": "code",
        "colab": {}
      },
      "source": [
        "# http://pytorch.org/\n",
        "from os.path import exists\n",
        "from wheel.pep425tags import get_abbr_impl, get_impl_ver, get_abi_tag\n",
        "platform = '{}{}-{}'.format(get_abbr_impl(), get_impl_ver(), get_abi_tag())\n",
        "cuda_output = !ldconfig -p|grep cudart.so|sed -e 's/.*\\.\\([0-9]*\\)\\.\\([0-9]*\\)$/cu\\1\\2/'\n",
        "accelerator = cuda_output[0] if exists('/dev/nvidia0') else 'cpu'\n",
        "\n",
        "import torch"
      ],
      "execution_count": 0,
      "outputs": []
    },
    {
      "cell_type": "code",
      "metadata": {
        "id": "5r0Igs2m3VIj",
        "colab_type": "code",
        "outputId": "2c4275b7-1cb2-43e0-ef1c-3352d967d936",
        "colab": {
          "base_uri": "https://localhost:8080/",
          "height": 51
        }
      },
      "source": [
        "%pylab inline\n",
        "import torch\n",
        "print(torch.__version__)"
      ],
      "execution_count": 0,
      "outputs": [
        {
          "output_type": "stream",
          "text": [
            "Populating the interactive namespace from numpy and matplotlib\n",
            "1.3.1\n"
          ],
          "name": "stdout"
        }
      ]
    },
    {
      "cell_type": "markdown",
      "metadata": {
        "id": "gk2j_j62dQ7C",
        "colab_type": "text"
      },
      "source": [
        "## PyTorch Tensors\n",
        "\n",
        "Whereas `numpy` used `np.array` as the basic data structure, in `PyTorch` we will use the similar `torch.Tensor` which you can think of in the same way. The big difference is that `torch.Tensor` can also be moved to the GPU, where they use a library called `CUDA` under the hood to do calculations\n",
        "\n",
        "/\n",
        "\n",
        "La structure de base de `numpy` est `np.array`, de même,  en`PyTorch` on utilise `torch.Tensor`. La difference entre les deux c'est qu'on peut mettre `torch.Tensor` sur le  GPU, et utiliser un bibliothèque qui s'appele `CUDA` pour faire les calculs."
      ]
    },
    {
      "cell_type": "code",
      "metadata": {
        "id": "BUvUjxTBB_6Z",
        "colab_type": "code",
        "outputId": "17f6ea97-a6b8-488f-cec4-9c798dde6fe6",
        "colab": {
          "base_uri": "https://localhost:8080/",
          "height": 68
        }
      },
      "source": [
        "a = torch.Tensor([1,2,3])\n",
        "W = torch.randn(3,3)\n",
        "b = torch.Tensor([4,5,6]).view(3,1)\n",
        "print(W.mm(b))"
      ],
      "execution_count": 0,
      "outputs": [
        {
          "output_type": "stream",
          "text": [
            "tensor([[ -8.3759],\n",
            "        [-11.5405],\n",
            "        [  1.4880]])\n"
          ],
          "name": "stdout"
        }
      ]
    },
    {
      "cell_type": "code",
      "metadata": {
        "id": "dySf1UboCDOA",
        "colab_type": "code",
        "outputId": "fbe9d8f6-86f8-472d-d034-3c874ef3483a",
        "colab": {
          "base_uri": "https://localhost:8080/",
          "height": 68
        }
      },
      "source": [
        "device = torch.device('cuda:0')    # we use 0 to specify the first GPU\n",
        "a = a.to(device)\n",
        "b = b.to(device)\n",
        "c = torch.ones(3, device=device)\n",
        "print(a + b + c)"
      ],
      "execution_count": 0,
      "outputs": [
        {
          "output_type": "stream",
          "text": [
            "tensor([[ 6.,  7.,  8.],\n",
            "        [ 7.,  8.,  9.],\n",
            "        [ 8.,  9., 10.]], device='cuda:0')\n"
          ],
          "name": "stdout"
        }
      ]
    },
    {
      "cell_type": "markdown",
      "metadata": {
        "id": "WtLqbeuK3Z1k",
        "colab_type": "text"
      },
      "source": [
        "## Iris Classification in PyTorch\n",
        "\n",
        "Let's load  `iris.txt` using the `sklearn` library, we can then preprocess the labels and convert them to one hot encoding\n",
        "\n",
        "/\n",
        "\n",
        "On commence par charger la base de données `iris` avec la bibliothèque `sklearn`, et on passe les labels en encodage one-hot"
      ]
    },
    {
      "cell_type": "code",
      "metadata": {
        "id": "gOd_eF_XGjXx",
        "colab_type": "code",
        "outputId": "53cfacc1-80cf-4aee-f7a3-c612625ea56e",
        "colab": {
          "base_uri": "https://localhost:8080/",
          "height": 71
        }
      },
      "source": [
        "from sklearn import datasets\n",
        "from sklearn.model_selection import train_test_split\n",
        "from sklearn.preprocessing import OneHotEncoder\n",
        "\n",
        "iris = datasets.load_iris()\n",
        "\n",
        "# separate into train/test using sklearn\n",
        "(x_train, x_test, y_train, y_test) = train_test_split(iris.data, iris.target)\n",
        "\n",
        "num_train = x_train.shape[0]\n",
        "num_test = x_test.shape[0]\n",
        "num_features = x_train.shape[1]\n",
        "num_classes = 3\n",
        "\n",
        "# lets also convert our targets y to a one-hot encoding \n",
        "# e.g. 1 -> [0, 1, 0], 2 -> [0, 0 ,1]  \n",
        "one_hot = OneHotEncoder(n_values=num_classes, sparse=False)\n",
        "y_train = one_hot.fit_transform(y_train.reshape(-1,1))\n",
        "y_test = one_hot.transform(y_test.reshape(-1,1))"
      ],
      "execution_count": 0,
      "outputs": [
        {
          "output_type": "stream",
          "text": [
            "/usr/local/lib/python3.6/dist-packages/sklearn/preprocessing/_encoders.py:373: DeprecationWarning: Passing 'n_values' is deprecated in version 0.20 and will be removed in 0.22. You can use the 'categories' keyword instead. 'n_values=n' corresponds to 'categories=[range(n)] * n_features'.\n",
            "  warnings.warn(msg, DeprecationWarning)\n"
          ],
          "name": "stderr"
        }
      ]
    },
    {
      "cell_type": "markdown",
      "metadata": {
        "id": "LUWh1dyGug-z",
        "colab_type": "text"
      },
      "source": [
        "Finally, we'll convert our data to `torch.Tensor` representations, and because we can only have operations between arguments of the same type so lets make everything a `float` as well\n",
        "\n",
        "/\n",
        "\n",
        "Après, on change les données à `torch.Tensor` et puisqu'on ne peut avoir des opérations qu'entre objets du même type, on guarantie que tous les types sont `float`"
      ]
    },
    {
      "cell_type": "code",
      "metadata": {
        "id": "JsZ2iGrIukbh",
        "colab_type": "code",
        "colab": {}
      },
      "source": [
        "x_train = torch.from_numpy(x_train).float().to(device)\n",
        "x_test = torch.from_numpy(x_test).float().to(device)\n",
        "y_train = torch.from_numpy(y_train).float().to(device)\n",
        "y_test = torch.from_numpy(y_test).float().to(device)"
      ],
      "execution_count": 0,
      "outputs": []
    },
    {
      "cell_type": "markdown",
      "metadata": {
        "id": "ZsKetd5DheWc",
        "colab_type": "text"
      },
      "source": [
        "## PyTorch Autograd\n",
        "\n",
        "\n"
      ]
    },
    {
      "cell_type": "markdown",
      "metadata": {
        "id": "Lt2dT6JclXDT",
        "colab_type": "text"
      },
      "source": [
        "So far when doing gradient descent for various ML models we would compute the gradients manually to do the update. While this would be possible for very simple neural networks with no hidden layer, it would become very complicated and bothersome to do backpropagation for complex, deep neural networks.\n",
        "\n",
        "To this end, we'd like to just build our neural network and have our library calculate the gradients necessary for backpropogation itself! `PyTorch` does this with `autograd` which keeps track of all your operations and the gradients associated with them.\n",
        "\n",
        "To do this, we set `requires_grad = True` for the tensors we want to keep track of, and call `loss.backward()` to populate the `.grad` part of each tensor. In our case, this will be the `weights`.\n",
        "\n",
        "We are going to compare manual gradient computations and automatic gradient computations on a very simple network for iris classification with MSE error, and make sure these computations are equivalent.\n",
        "\n",
        "/\n",
        "\n",
        "Jusqu'ici lorsque nous faisions une descente de gradient pour divers modèles de ML nous calculions à la main les gradients. Bien que ce serait possible pour un réseau de neurone très simple sans couche cachée, cela deviendrait très compliqué et laborieux de faire la backpropagation sur des réseaux complexes et profonds.\n",
        "\n",
        "Pour répondre à ça, nous aimerions juste construire notre réseau de neurones et que notre librairie calcule les gradients necessaire à la backpropagation d'elle même ! `PyTorch` fait cela avec `autograd` qui garde en mémoire toutes les opérations que l'on fait et les gradients qui y sont associés.\n",
        "\n",
        "Pour faire ceci, nous utilisons `requires_grad = True` sur les tensors dont nous voulons calculer les gradients, et appelons `loss.backward()` pour calculer la partie `.grad` de chaque tensor. Dans notre cas, ce sera les `weights`.\n",
        "\n",
        "Nous allons comparer les calculs manuels et automatiques de gradients sur un réseau très simple pour la classification d'iris avec MSE, et s'assurer que ces calculs soient bien équivalents."
      ]
    },
    {
      "cell_type": "code",
      "metadata": {
        "id": "1_c-VJW8auzR",
        "colab_type": "code",
        "colab": {}
      },
      "source": [
        "### We initialize weights and parameters\n",
        "torch.manual_seed(0)\n",
        "torch.cuda.manual_seed(0)\n",
        "# set requires_grad = True to track the gradients\n",
        "weights = torch.randn(num_features, num_classes, device=device, requires_grad=True)\n",
        "\n",
        "learning_rate = 2e-5\n",
        "num_epochs = 500\n",
        "\n",
        "losses = []\n",
        "\n",
        "### We now perform Gradient Descent\n",
        "### On effectue la descente de gradient\n",
        "\n",
        "for epoch in range(num_epochs):\n",
        "\n",
        "    # QUESTION : compute the predictions and MSE loss\n",
        "    # (Hint : torch.mm(x,y) is matrix multiplication in PyTorch)\n",
        "    preds = # predictions\n",
        "    loss = # MSE loss\n",
        "    losses.append(loss.item())\n",
        "\n",
        "    ### MANUAL gradient computation\n",
        "    # QUESTION : complete the gradient computation for MSE\n",
        "    grad_preds = # gradients wrt predictions\n",
        "    grad_w = # gradients wrt weights\n",
        "\n",
        "    ### AUTO gradients computation\n",
        "    loss.backward()\n",
        "\n",
        "    # Let's make sure both computations are equivalent\n",
        "    if not np.allclose(grad_w.tolist(), weights.grad.tolist()):\n",
        "      raise BaseException('gradients are different !')\n",
        "\n",
        "    ### Update the weights without changing the gradients\n",
        "    with torch.no_grad():\n",
        "      # access the gradient with weights.grad\n",
        "      weights -= learning_rate * weights.grad\n",
        "      \n",
        "      # make sure to reset the gradient to 0 for our next calculation\n",
        "      weights.grad.zero_()"
      ],
      "execution_count": 0,
      "outputs": []
    },
    {
      "cell_type": "code",
      "metadata": {
        "id": "TpPqyWzNqCxn",
        "colab_type": "code",
        "outputId": "ba70949c-a164-4358-d7ea-6b8d681021c8",
        "colab": {
          "base_uri": "https://localhost:8080/",
          "height": 296
        }
      },
      "source": [
        "plot(range(num_epochs), losses)\n",
        "xlabel('epochs')\n",
        "ylabel('mean squared loss')"
      ],
      "execution_count": 0,
      "outputs": [
        {
          "output_type": "execute_result",
          "data": {
            "text/plain": [
              "Text(0, 0.5, 'mean squared loss')"
            ]
          },
          "metadata": {
            "tags": []
          },
          "execution_count": 105
        },
        {
          "output_type": "display_data",
          "data": {
            "image/png": "[encoded data removed]",
            "text/plain": [
              "<Figure size 432x288 with 1 Axes>"
            ]
          },
          "metadata": {
            "tags": []
          }
        }
      ]
    },
    {
      "cell_type": "markdown",
      "metadata": {
        "id": "nN81u_n-LPN1",
        "colab_type": "text"
      },
      "source": [
        "## PyTorch Optimizers\n",
        "\n",
        "We can make our code even simpler by letting the library do the gradient updates as well! Using `torch.optim` we can choose from a variety of optimization strategies, and in this case, we can use regular `SGD`. We have to specify all the parameters we wish to optimize, so in this case it is just `weights`\n",
        "\n",
        "/\n",
        "\n",
        "Nous pouvons encore simplifier le code si on fais les updates de gradient automatique aussi. Avec `torch.optim`, nous pouvons choisir d'un varieté de optimisateurs, et dans cette cas, on choisit `SGD` régulier. Il faut juste préciser les paramètres qu'on veut optimiser, et le taux d'apprendisage."
      ]
    },
    {
      "cell_type": "code",
      "metadata": {
        "id": "lzPiBADI77OT",
        "colab_type": "code",
        "outputId": "a27297c6-39ac-4f81-d708-3ce519e339b0",
        "colab": {
          "base_uri": "https://localhost:8080/",
          "height": 296
        }
      },
      "source": [
        "torch.manual_seed(0)\n",
        "torch.cuda.manual_seed(0)\n",
        "weights = torch.randn(num_features, num_classes, device=device, requires_grad=True)\n",
        "\n",
        "learning_rate = 2e-5\n",
        "num_epochs = 500\n",
        "losses = []\n",
        "\n",
        "# set the optimizer\n",
        "optimizer = torch.optim.SGD([weights], lr=learning_rate)\n",
        "\n",
        "for epoch in range(num_epochs):\n",
        "\n",
        "    preds = torch.mm(x_train, weights)\n",
        "    loss = (preds - y_train).pow(2).mean()\n",
        "    losses.append(loss.item())\n",
        "\n",
        "    # make sure to reset the gradients to 0 before calculation\n",
        "    optimizer.zero_grad()\n",
        "    loss.backward()\n",
        "    # update our parameter with SGD\n",
        "    optimizer.step()\n",
        "    \n",
        "plot(range(num_epochs), losses)\n",
        "xlabel('epochs')\n",
        "ylabel('mean squared loss')"
      ],
      "execution_count": 0,
      "outputs": [
        {
          "output_type": "execute_result",
          "data": {
            "text/plain": [
              "Text(0, 0.5, 'mean squared loss')"
            ]
          },
          "metadata": {
            "tags": []
          },
          "execution_count": 108
        },
        {
          "output_type": "display_data",
          "data": {
            "image/png": "[encoded data removed]",
            "text/plain": [
              "<Figure size 432x288 with 1 Axes>"
            ]
          },
          "metadata": {
            "tags": []
          }
        }
      ]
    },
    {
      "cell_type": "markdown",
      "metadata": {
        "id": "owq_-1znN401",
        "colab_type": "text"
      },
      "source": [
        "## PyTorch NN\n",
        "\n",
        "Now nearly everything is in place, except it would still be a bit of a hassle to explicitly write out all the weights, biases, and other parameters we want to optimize. This is especially true since there are a lot of very common neural network building blocks that we use all the time. The `torch.nn` part of the libary is exactly that! It gives us all the tools to write our models at a higher level, going over the small details\n",
        "\n",
        "Here, we will replace:\n",
        "- `weights` with `nn.Linear` layer\n",
        "- our optimizer's listing of parameters with `model.parameters()` \n",
        "- our manual loss calculation with `nn.MSELoss`\n",
        "\n",
        "/\n",
        "\n",
        "Maintenant, presque tous est fait! Mais c'est encore un peu laborieux d'explicitement donner tout les poids, bias, et autres paramètres que l'on souhaite optimiser, alors que la plupart des réseaux de neurones reposent sur des même blocs de constructions. C'est à ça que sert `torch.nn`, qui nous permet de n'écrire nos modèles qu'à trés haut level en omettant les détails.\n",
        "\n",
        "Avec notre code au dessous, on remplace:\n",
        "- `weights` par la couche `nn.Linear`\n",
        "- les paramètres qu'on a besoin d'optimiser par `model.parameters()` \n",
        "- notre calcul de loss à la main par `nn.MSELoss`"
      ]
    },
    {
      "cell_type": "code",
      "metadata": {
        "id": "Augli26N8uFl",
        "colab_type": "code",
        "outputId": "626e96a7-b448-4bc6-e1c8-c278d3de8359",
        "colab": {
          "base_uri": "https://localhost:8080/",
          "height": 299
        }
      },
      "source": [
        "torch.manual_seed(0)\n",
        "torch.cuda.manual_seed(0)\n",
        "\n",
        "# define your model\n",
        "model = torch.nn.Linear(num_features, num_classes).to(device)\n",
        "# choose a loss function\n",
        "loss_fn = torch.nn.MSELoss()\n",
        "\n",
        "num_epochs = 500\n",
        "learning_rate = 2e-5\n",
        "# automatically find all your model's parameters\n",
        "optimizer = torch.optim.SGD(model.parameters(), lr=learning_rate)\n",
        "\n",
        "losses = []\n",
        "\n",
        "for epoch in range(num_epochs):\n",
        "    preds = model(x_train)\n",
        "    loss = loss_fn(preds, y_train)\n",
        "\n",
        "    losses.append(loss.item())\n",
        "\n",
        "    optimizer.zero_grad()\n",
        "    loss.backward()\n",
        "    optimizer.step()    \n",
        "\n",
        "    \n",
        "plot(range(num_epochs), losses)\n",
        "xlabel('epochs')\n",
        "ylabel('mean squared loss')"
      ],
      "execution_count": 0,
      "outputs": [
        {
          "output_type": "execute_result",
          "data": {
            "text/plain": [
              "Text(0, 0.5, 'mean squared loss')"
            ]
          },
          "metadata": {
            "tags": []
          },
          "execution_count": 109
        },
        {
          "output_type": "display_data",
          "data": {
            "image/png": "[encoded data removed]",
            "text/plain": [
              "<Figure size 432x288 with 1 Axes>"
            ]
          },
          "metadata": {
            "tags": []
          }
        }
      ]
    },
    {
      "cell_type": "markdown",
      "metadata": {
        "id": "AAvJ4MrI2ObP",
        "colab_type": "text"
      },
      "source": [
        "There are other types of layers besides `nn.Linear`. For example, we can add a non-linear activation such as reLU with `nn.ReLU`, or add a convolution layer with `nn.Conv2d` (as we will see next week)\n",
        "\n",
        "/\n",
        "\n",
        "Il existe d'autres types de couche que `nn.Linear`. Par exemple, on peut ajouter une fonction d'activation non-linéaire comme reLU avec `nn.ReLU`, ou ajouter une couche avec convolution avec `nn.Conv2d` (comme nous le verrons la semaine prochaine)"
      ]
    },
    {
      "cell_type": "markdown",
      "metadata": {
        "id": "WqOeu26nQ3Ql",
        "colab_type": "text"
      },
      "source": [
        "## PyTorch nn.Sequential\n",
        "Most of the time we want to build multi-layer neural networks. PyTorch lets us do that by using [nn.Sequential](https://pytorch.org/docs/stable/nn.html?#sequential), which wraps a sequence of layers together and turns them into one big model.\n",
        "\n",
        "/\n",
        "\n",
        "La plupart du temps nous voulons construire des réseaux de neurones à plusieurs couches. PyTorch nous laisse faire cela en utilisant [nn.Sequential](https://pytorch.org/docs/stable/nn.html?#sequential), qui regroupe une séquence de couches ensemble et les transforme en un gros modèle."
      ]
    },
    {
      "cell_type": "code",
      "metadata": {
        "id": "HIApAoCqQ3gc",
        "colab_type": "code",
        "outputId": "1cabaca7-6e9f-42cc-bc53-dc5bc7056948",
        "colab": {
          "base_uri": "https://localhost:8080/",
          "height": 296
        }
      },
      "source": [
        "torch.manual_seed(0)\n",
        "torch.cuda.manual_seed(0)\n",
        "\n",
        "model = torch.nn.Sequential(\n",
        "    torch.nn.Linear(num_features, 4),\n",
        "    torch.nn.Linear(4, num_classes)\n",
        ").to(device)\n",
        "    \n",
        "loss_fn = torch.nn.MSELoss()\n",
        "\n",
        "num_epochs = 500\n",
        "learning_rate = 2e-5\n",
        "optimizer = torch.optim.SGD(model.parameters(), lr=learning_rate)\n",
        "\n",
        "losses = []\n",
        "\n",
        "for epoch in range(num_epochs):\n",
        "    preds = model(x_train)\n",
        "    loss = loss_fn(preds, y_train)\n",
        "\n",
        "    losses.append(loss.item())\n",
        "\n",
        "    optimizer.zero_grad()\n",
        "    loss.backward()\n",
        "    optimizer.step()    \n",
        "\n",
        "    \n",
        "plot(range(num_epochs), losses)\n",
        "xlabel('epochs')\n",
        "ylabel('mean squared loss')"
      ],
      "execution_count": 0,
      "outputs": [
        {
          "output_type": "execute_result",
          "data": {
            "text/plain": [
              "Text(0, 0.5, 'mean squared loss')"
            ]
          },
          "metadata": {
            "tags": []
          },
          "execution_count": 33
        },
        {
          "output_type": "display_data",
          "data": {
            "image/png": "[encoded data removed]",
            "text/plain": [
              "<Figure size 432x288 with 1 Axes>"
            ]
          },
          "metadata": {
            "tags": []
          }
        }
      ]
    },
    {
      "cell_type": "markdown",
      "metadata": {
        "id": "r3ym7c7DTNdN",
        "colab_type": "text"
      },
      "source": [
        "## Challenge\n",
        "\n",
        "We're now doing really well on the `iris` dataset mainly because it is so simple and neural networks are so powerful! Let's work on something a bit harder, and try our hands on the sklearn Digits dataset. This dataset contains images of handwritten digits, similarly to the famous MNIST, but with smaller dimension and size (to simplify the code in the scope of this demo)\n",
        "\n",
        "There are 1797 images. The input images are handwritten digits (0 - 9) in a 8x8 pixel grayscale image. This means the input is a Tensor of size `1797 x 64` where each value is an \"intensity\" (how dark the pixel is) number between 0 and 255 (inclusive) . The output is the number that this handwritten image is showing, so between 0 and 9.\n",
        "\n",
        "We now try using neural networks coded in PyTorch to handle this classification task. The loss function we use is softmax cross entropy (look [here](https://pytorch.org/docs/stable/nn.html?#loss-functions)).\n",
        "The following code cell has an example of decently performing neural net. It is now your turn to play with the architecture and hyperparameters and see how it affects training score, test score, computation speed, etc. Try to improve the performances !\n",
        "\n",
        "You can play with :\n",
        "\n",
        "* number of layers\n",
        "* number of neurons per layers\n",
        "* device (cpu vs cuda, how does it impact speed ?)\n",
        "* adding non-linear layers between linear layers (e.g. ReLU, but there are others)\n",
        "* learning rate\n",
        "* number of epochs\n",
        "* loss function\n",
        "\n",
        "Note that the dataset has a small number of samples and we are not using convolution layers (which are more adapted to images and which we will study next week), so the performance will have some limitations.\n",
        "\n",
        "/\n",
        "\n",
        "On se débrouille maintenant bien sur `iris` principalement car c'est un jeu de données simple et les réseaux de neurones sont puissants. Travaillons maintenant sur un exemple plus compliqué, le dataset `digits` de sklearn. Ce dataset contient des images de chiffres écrits à la main, comme le célèbre MNIST, mais avec moins d'exemples et de plus faible dimension (afin de simplifier le code dans le cadre de cette démo).\n",
        "\n",
        "Il y a 1797 images. Les images sont des chiffres écrits à la main (0 - 9) dans un format 8x8 à échelle de gris. Cela veut dire que l'input est un Tensor de dimension `1797x64` où chaque valeur est une 'intensité' (à quel point le pixel est sombre) entre 0 et 255 inclut. La sortie est le chiffre que l'image montre, donc entre 0 et 9 inclut.\n",
        "\n",
        "On essaye maintenant des réseaux de neurones implementés en PyTorch pour effectuer cette tache de classification. La fonction de coût que nous utilisons est softmax crossentropy (regardez [ici](https://pytorch.org/docs/stable/nn.html?#loss-functions)). \n",
        "Le code qui suit est un exemple de réseau de neurones avec des performances décentes. C'est maintenant votre tour de jouer avec les hyperparamètres et l'architecture et voir comment cela affecte la precision d'entrainement, la precision de test, le temps de calcul, etc. Essayez d'améliorer les performances !\n",
        "\n",
        "Vous pouvez jouer avec :\n",
        "\n",
        "* le nombre de couches\n",
        "* le nombre de neurones par couche\n",
        "* cpu vs cuda (comment cela affecte le temps de calcul ?)\n",
        "* ajouter des transformations non-linéaires entre les couches linéaires, comme ReLU (mais il y en a d'autres)\n",
        "* learning rate\n",
        "* nombre d'époques\n",
        "* fonction de perte\n",
        "\n",
        "Remarquez que le jeu de données a un faible nombre de points et nous n'utilisons pas les couches de convolutions (plus adaptées aux images et que nous verrons la semaine prochaine), donc les performances ont des limites."
      ]
    },
    {
      "cell_type": "code",
      "metadata": {
        "id": "BNISVu5J5OfP",
        "colab_type": "code",
        "outputId": "f082d63c-5aaf-49fc-e142-8d93328b1048",
        "colab": {
          "base_uri": "https://localhost:8080/",
          "height": 232
        }
      },
      "source": [
        "import torch\n",
        "import torch.nn as nn\n",
        "import torch.nn.functional as F\n",
        "import torch.optim as optim\n",
        "from torchvision import datasets, transforms\n",
        "\n",
        "from sklearn import datasets\n",
        "from sklearn.model_selection import train_test_split\n",
        "from sklearn.preprocessing import OneHotEncoder\n",
        "\n",
        "torch.manual_seed(0)\n",
        "torch.cuda.manual_seed(0)\n",
        "device = torch.device('cuda:0')\n",
        "\n",
        "### Load Digits dataset\n",
        "\n",
        "digits = datasets.load_digits()\n",
        "(x_train, x_test, y_train, y_test) = train_test_split(digits.data, digits.target)\n",
        "num_train = x_train.shape[0]\n",
        "num_test = x_test.shape[0]\n",
        "num_features = x_train.shape[1]\n",
        "num_classes = 10\n",
        "one_hot = OneHotEncoder(n_values=num_classes, sparse=False)\n",
        "x_train = torch.from_numpy(x_train).float().to(device)\n",
        "x_test = torch.from_numpy(x_test).float().to(device)\n",
        "y_train = torch.from_numpy(y_train).long().to(device)\n",
        "y_test = torch.from_numpy(y_test).long().to(device)\n",
        "\n",
        "### Hyperparameters & architecture\n",
        "\n",
        "model = nn.Sequential(\n",
        "    nn.Linear(num_features, 200),\n",
        "    nn.ReLU(),\n",
        "    nn.Linear(200, 500),\n",
        "    nn.ReLU(),\n",
        "    nn.Linear(500, 500),\n",
        "    nn.ReLU(),\n",
        "    nn.Linear(500, num_classes),\n",
        ").to(device)\n",
        "\n",
        "num_epochs = 10000\n",
        "learning_rate = 2e-5\n",
        "loss_fn = nn.CrossEntropyLoss()\n",
        "\n",
        "### Training\n",
        "\n",
        "optimizer = torch.optim.SGD(model.parameters(), lr=learning_rate)\n",
        "losses = []\n",
        "\n",
        "for epoch in range(num_epochs):\n",
        "\n",
        "    preds = model(x_train)\n",
        "    loss = loss_fn(preds, y_train)\n",
        "    losses.append(loss.item())\n",
        "\n",
        "    optimizer.zero_grad()\n",
        "    loss.backward()\n",
        "    optimizer.step()    \n",
        "\n",
        "### Results\n",
        "    \n",
        "plot(range(num_epochs), losses)\n",
        "xlabel('epochs')\n",
        "ylabel('crossentropy loss')\n",
        "\n",
        "preds_train = model(x_train)\n",
        "acc = 0\n",
        "for i in range(len(y_train)):\n",
        "  if torch.argmax(preds_train[i]) == y_train[i]:\n",
        "    acc += 1\n",
        "print('train accuracy : {}'.format(acc / len(y_train)))\n",
        "\n",
        "preds_test = model(x_test)\n",
        "acc = 0\n",
        "for i in range(len(y_test)):\n",
        "  if torch.argmax(preds_test[i]) == y_test[i]:\n",
        "    acc += 1\n",
        "print('test accuracy : {}'.format(acc / len(y_test)))\n"
      ],
      "execution_count": 0,
      "outputs": [
        {
          "output_type": "error",
          "ename": "NameError",
          "evalue": "ignored",
          "traceback": [
            "\u001b[0;31m---------------------------------------------------------------------------\u001b[0m",
            "\u001b[0;31mNameError\u001b[0m                                 Traceback (most recent call last)",
            "\u001b[0;32m<ipython-input-3-c47af71d8407>\u001b[0m in \u001b[0;36m<module>\u001b[0;34m()\u001b[0m\n\u001b[1;32m     60\u001b[0m \u001b[0;31m### Results\u001b[0m\u001b[0;34m\u001b[0m\u001b[0;34m\u001b[0m\u001b[0;34m\u001b[0m\u001b[0m\n\u001b[1;32m     61\u001b[0m \u001b[0;34m\u001b[0m\u001b[0m\n\u001b[0;32m---> 62\u001b[0;31m \u001b[0mplot\u001b[0m\u001b[0;34m(\u001b[0m\u001b[0mrange\u001b[0m\u001b[0;34m(\u001b[0m\u001b[0mnum_epochs\u001b[0m\u001b[0;34m)\u001b[0m\u001b[0;34m,\u001b[0m \u001b[0mlosses\u001b[0m\u001b[0;34m)\u001b[0m\u001b[0;34m\u001b[0m\u001b[0;34m\u001b[0m\u001b[0m\n\u001b[0m\u001b[1;32m     63\u001b[0m \u001b[0mxlabel\u001b[0m\u001b[0;34m(\u001b[0m\u001b[0;34m'epochs'\u001b[0m\u001b[0;34m)\u001b[0m\u001b[0;34m\u001b[0m\u001b[0;34m\u001b[0m\u001b[0m\n\u001b[1;32m     64\u001b[0m \u001b[0mylabel\u001b[0m\u001b[0;34m(\u001b[0m\u001b[0;34m'crossentropy loss'\u001b[0m\u001b[0;34m)\u001b[0m\u001b[0;34m\u001b[0m\u001b[0;34m\u001b[0m\u001b[0m\n",
            "\u001b[0;31mNameError\u001b[0m: name 'plot' is not defined"
          ]
        }
      ]
    }
  ]
}