{
  "nbformat": 4,
  "nbformat_minor": 0,
  "metadata": {
    "kernelspec": {
      "display_name": "Python 3",
      "language": "python",
      "name": "python3"
    },
    "language_info": {
      "codemirror_mode": {
        "name": "ipython",
        "version": 3
      },
      "file_extension": ".py",
      "mimetype": "text/x-python",
      "name": "python",
      "nbconvert_exporter": "python",
      "pygments_lexer": "ipython3",
      "version": "3.7.3"
    },
    "name": "function_fitting_implementation.ipynb",
    "colab": {
      "name": "regression_example-mod.ipynb",
      "version": "0.3.2",
      "provenance": [],
      "collapsed_sections": [],
      "include_colab_link": true
    }
  },
  "cells": [
    {
      "cell_type": "markdown",
      "metadata": {
        "id": "view-in-github",
        "colab_type": "text"
      },
      "source": [
        "<a href=\"https://colab.research.google.com/github/akshayrana30/mila-courses/blob/master/regression_example_mod.ipynb\" target=\"_parent\"><img src=\"https://colab.research.google.com/assets/colab-badge.svg\" alt=\"Open In Colab\"/></a>"
      ]
    },
    {
      "cell_type": "markdown",
      "metadata": {
        "ein.tags": "worksheet-0",
        "id": "RO7KvDwP2kuh",
        "colab_type": "text"
      },
      "source": [
        "## Linear Regression"
      ]
    },
    {
      "cell_type": "markdown",
      "metadata": {
        "ein.tags": "worksheet-0",
        "id": "CiH-j35G2kul",
        "colab_type": "text"
      },
      "source": [
        "These examples come from the \"Linear Regression: In Depth\" section in the PDS handbook.\n",
        "\n",
        "We'll start with a simple regression, which has only one input variable. First\n",
        "though, let's include the usual imports."
      ]
    },
    {
      "cell_type": "code",
      "metadata": {
        "autoscroll": false,
        "ein.hycell": false,
        "ein.tags": "worksheet-0",
        "id": "6hBOKI8R2kun",
        "colab_type": "code",
        "colab": {}
      },
      "source": [
        "import seaborn as sns\n",
        "import numpy as np\n",
        "rng = np.random.RandomState(1) # set a seed"
      ],
      "execution_count": 0,
      "outputs": []
    },
    {
      "cell_type": "code",
      "metadata": {
        "id": "0PYsrt_I-gOx",
        "colab_type": "code",
        "colab": {}
      },
      "source": [
        ""
      ],
      "execution_count": 0,
      "outputs": []
    },
    {
      "cell_type": "markdown",
      "metadata": {
        "ein.tags": "worksheet-0",
        "id": "o31q6jME2ku1",
        "colab_type": "text"
      },
      "source": [
        "We'll generate data from a true linear model, $y_i = 2 x_i - 5 +\n",
        "\\epsilon_i$, where $x_i \\sim \\text{Unif}\\left[0, 10\\right]$ and $\\epsilon_i \\sim\n",
        "\\mathcal{N}\\left(0, 1\\right)$."
      ]
    },
    {
      "cell_type": "code",
      "metadata": {
        "autoscroll": false,
        "ein.hycell": false,
        "ein.tags": "worksheet-0",
        "id": "bxb1w6P82ku3",
        "colab_type": "code",
        "outputId": "df835009-9a89-4ac4-fc7b-f41028c6f0c1",
        "colab": {
          "base_uri": "https://localhost:8080/",
          "height": 286
        }
      },
      "source": [
        "n = 50\n",
        "x = 10 * rng.rand(n)\n",
        "eps = rng.randn(n)\n",
        "f = 2 * x - 5\n",
        "y = f + eps\n",
        "sns.scatterplot(x, y)"
      ],
      "execution_count": 8,
      "outputs": [
        {
          "output_type": "execute_result",
          "data": {
            "text/plain": [
              "<matplotlib.axes._subplots.AxesSubplot at 0x7f18b770fd30>"
            ]
          },
          "metadata": {
            "tags": []
          },
          "execution_count": 8
        },
        {
          "output_type": "display_data",
          "data": {
            "image/png": "[encoded data removed]",
            "text/plain": [
              "<Figure size 432x288 with 1 Axes>"
            ]
          },
          "metadata": {
            "tags": []
          }
        }
      ]
    },
    {
      "cell_type": "markdown",
      "metadata": {
        "ein.tags": "worksheet-0",
        "id": "_e6d-QkZ2kvC",
        "colab_type": "text"
      },
      "source": [
        "Let's plot the underlying linear $f\\left(x\\right)$, along with the errors\n",
        "$\\epsilon_i$."
      ]
    },
    {
      "cell_type": "code",
      "metadata": {
        "autoscroll": false,
        "ein.hycell": false,
        "ein.tags": "worksheet-0",
        "id": "ouM0hQrz2kvE",
        "colab_type": "code",
        "outputId": "0132dcb5-97fd-4b3d-dfd4-ad33fceef57e",
        "colab": {
          "base_uri": "https://localhost:8080/",
          "height": 286
        }
      },
      "source": [
        "import matplotlib.pyplot as plt\n",
        "\n",
        "sns.lineplot(x, f, color=\"green\")\n",
        "for i in range(n):\n",
        "    plt.plot([x[i], x[i]], [f[i], y[i]], linewidth=2, color=\"red\", alpha=0.5)\n",
        "sns.scatterplot(x, y)\n"
      ],
      "execution_count": 9,
      "outputs": [
        {
          "output_type": "execute_result",
          "data": {
            "text/plain": [
              "<matplotlib.axes._subplots.AxesSubplot at 0x7f18b4e5aac8>"
            ]
          },
          "metadata": {
            "tags": []
          },
          "execution_count": 9
        },
        {
          "output_type": "display_data",
          "data": {
            "image/png": "[encoded data removed]",
            "text/plain": [
              "<Figure size 432x288 with 1 Axes>"
            ]
          },
          "metadata": {
            "tags": []
          }
        }
      ]
    },
    {
      "cell_type": "markdown",
      "metadata": {
        "ein.tags": "worksheet-0",
        "id": "wo77pbZG2kvL",
        "colab_type": "text"
      },
      "source": [
        "We can use the `LinearRegression` module in `sklearn` to fit a regression to\n",
        "this data. The estimate is shown as the orange overlay."
      ]
    },
    {
      "cell_type": "code",
      "metadata": {
        "autoscroll": false,
        "ein.hycell": false,
        "ein.tags": "worksheet-0",
        "id": "P6J_SoFB2kvM",
        "colab_type": "code",
        "outputId": "26c401be-8b07-48f6-ab06-0c74f827550b",
        "colab": {
          "base_uri": "https://localhost:8080/",
          "height": 286
        }
      },
      "source": [
        "from sklearn.linear_model import LinearRegression\n",
        "model = LinearRegression()\n",
        "model.fit(x[:, np.newaxis], y)\n",
        "x_eval = np.linspace(0, 10, 100)\n",
        "f_hat = model.predict(x_eval[:, np.newaxis])\n",
        "sns.scatterplot(x, y)\n",
        "sns.lineplot(x, f, color=\"green\")\n",
        "sns.lineplot(x_eval, f_hat, color=\"orange\")\n"
      ],
      "execution_count": 10,
      "outputs": [
        {
          "output_type": "execute_result",
          "data": {
            "text/plain": [
              "<matplotlib.axes._subplots.AxesSubplot at 0x7f18b1ce4278>"
            ]
          },
          "metadata": {
            "tags": []
          },
          "execution_count": 10
        },
        {
          "output_type": "display_data",
          "data": {
            "image/png": "[encoded data removed]",
            "text/plain": [
              "<Figure size 432x288 with 1 Axes>"
            ]
          },
          "metadata": {
            "tags": []
          }
        }
      ]
    },
    {
      "cell_type": "markdown",
      "metadata": {
        "ein.tags": "worksheet-0",
        "id": "0BBMhXX62kvT",
        "colab_type": "text"
      },
      "source": [
        "We can inspect the model's fit by looking at the coefficient and intercept\n",
        "terms. It seems reasonably close to the data generating mechanism. A worthwhile\n",
        "exercise is to try rerunning this code with larger and smaller $n$ and larger and smaller noise variance, to see at\n",
        "how the accuracy of the estimates vary."
      ]
    },
    {
      "cell_type": "code",
      "metadata": {
        "autoscroll": false,
        "ein.hycell": false,
        "ein.tags": "worksheet-0",
        "id": "AXxi2_OH2kvV",
        "colab_type": "code",
        "outputId": "23fb35fa-457e-4b59-e211-ddb0cdd0ec7e",
        "colab": {
          "base_uri": "https://localhost:8080/",
          "height": 51
        }
      },
      "source": [
        "print(f\"Intercept: {model.intercept_} \\n Slope: {model.coef_}\")"
      ],
      "execution_count": 11,
      "outputs": [
        {
          "output_type": "stream",
          "text": [
            "Intercept: -4.998577085553204 \n",
            " Slope: [2.02720881]\n"
          ],
          "name": "stdout"
        }
      ]
    },
    {
      "cell_type": "markdown",
      "metadata": {
        "ein.tags": "worksheet-0",
        "id": "A-oibSOk2kvj",
        "colab_type": "text"
      },
      "source": [
        "It's not too hard to run similar code for multidimensional $x$. Here's an\n",
        "example with 3 input dimensions."
      ]
    },
    {
      "cell_type": "code",
      "metadata": {
        "autoscroll": false,
        "ein.hycell": false,
        "ein.tags": "worksheet-0",
        "id": "yGM2UJxD2kvm",
        "colab_type": "code",
        "outputId": "53adeffc-b7b4-47bf-855f-1e7710cf02d5",
        "colab": {
          "base_uri": "https://localhost:8080/",
          "height": 34
        }
      },
      "source": [
        "import numpy as np\n",
        "# generate data\n",
        "x = 10 * rng.rand(n, 3)\n",
        "beta = [1.5, -2, 1]\n",
        "f = 0.5 + np.dot(x, beta)\n",
        "y = f + eps\n",
        "\n",
        "# fit regression\n",
        "model = LinearRegression()\n",
        "model.fit(x, y)\n",
        "model.coef_\n"
      ],
      "execution_count": 12,
      "outputs": [
        {
          "output_type": "execute_result",
          "data": {
            "text/plain": [
              "array([ 1.43255837, -1.9252595 ,  0.99489009])"
            ]
          },
          "metadata": {
            "tags": []
          },
          "execution_count": 12
        }
      ]
    },
    {
      "cell_type": "code",
      "metadata": {
        "id": "sX1n7cNw-i3z",
        "colab_type": "code",
        "colab": {}
      },
      "source": [
        ""
      ],
      "execution_count": 0,
      "outputs": []
    },
    {
      "cell_type": "markdown",
      "metadata": {
        "ein.tags": "worksheet-0",
        "id": "b2_JTGq52kvr",
        "colab_type": "text"
      },
      "source": [
        "Let's visualize the data and the fit as well."
      ]
    },
    {
      "cell_type": "code",
      "metadata": {
        "autoscroll": false,
        "ein.hycell": false,
        "ein.tags": "worksheet-0",
        "id": "62OZRgPu2kvv",
        "colab_type": "code",
        "outputId": "27e90185-d0fb-4123-8d4b-c5ece4d87826",
        "colab": {
          "base_uri": "https://localhost:8080/",
          "height": 242
        }
      },
      "source": [
        "concat_data = np.hstack([\n",
        "  y[:, np.newaxis],\n",
        "  f[:, np.newaxis],\n",
        "  model.predict(x)[:, np.newaxis],\n",
        "  x\n",
        "])\n",
        "\n",
        "import pandas as pd\n",
        "\n",
        "df = pd.DataFrame(concat_data).reset_index()\n",
        "df.columns = [\"index\", \"y\", \"f\", \"f_hat\", \"x0\", \"x1\", \"x2\"]\n",
        "mdf = pd.melt(df, id_vars=df.columns[:4], var_name=\"column\")\n",
        "\n",
        "g = sns.FacetGrid(mdf, col=\"column\")\n",
        "g.map(sns.scatterplot, \"value\", \"y\")\n",
        "g.map(sns.lineplot, \"value\", \"f\", color=\"green\") ## <-- Q:, why aren't these just lines?\n",
        "g.map(sns.lineplot, \"value\", \"f_hat\", color=\"orange\")\n"
      ],
      "execution_count": 13,
      "outputs": [
        {
          "output_type": "execute_result",
          "data": {
            "text/plain": [
              "<seaborn.axisgrid.FacetGrid at 0x7f18b1cc4898>"
            ]
          },
          "metadata": {
            "tags": []
          },
          "execution_count": 13
        },
        {
          "output_type": "display_data",
          "data": {
            "image/png": "[encoded data removed]",
            "text/plain": [
              "<Figure size 648x216 with 3 Axes>"
            ]
          },
          "metadata": {
            "tags": []
          }
        }
      ]
    },
    {
      "cell_type": "markdown",
      "metadata": {
        "ein.tags": "worksheet-0",
        "id": "IWu0fTex2kv2",
        "colab_type": "text"
      },
      "source": [
        "### Basis Functions"
      ]
    },
    {
      "cell_type": "markdown",
      "metadata": {
        "ein.tags": "worksheet-0",
        "id": "NXp6ptDO2kv4",
        "colab_type": "text"
      },
      "source": [
        "Let's see how we can use basis functions to fit nonlinear functions using\n",
        "linear regression. Let's generate some sinusoidal data, on which to test the main\n",
        "ideas."
      ]
    },
    {
      "cell_type": "code",
      "metadata": {
        "autoscroll": false,
        "ein.hycell": false,
        "ein.tags": "worksheet-0",
        "id": "E4dE90au2kv5",
        "colab_type": "code",
        "outputId": "7ba30bb7-4770-4f0c-d834-6157b54fbe12",
        "colab": {
          "base_uri": "https://localhost:8080/",
          "height": 286
        }
      },
      "source": [
        "x = 10 * rng.rand(n)\n",
        "eps = 0.1 * rng.randn(n)\n",
        "f = np.sin(x)\n",
        "y = f + eps\n",
        "\n",
        "sns.scatterplot(x, y)"
      ],
      "execution_count": 14,
      "outputs": [
        {
          "output_type": "execute_result",
          "data": {
            "text/plain": [
              "<matplotlib.axes._subplots.AxesSubplot at 0x7f18b1c9a400>"
            ]
          },
          "metadata": {
            "tags": []
          },
          "execution_count": 14
        },
        {
          "output_type": "display_data",
          "data": {
            "image/png": "[encoded data removed]",
            "text/plain": [
              "<Figure size 432x288 with 1 Axes>"
            ]
          },
          "metadata": {
            "tags": []
          }
        }
      ]
    },
    {
      "cell_type": "markdown",
      "metadata": {
        "ein.tags": "worksheet-0",
        "id": "ly9bysHN2kwG",
        "colab_type": "text"
      },
      "source": [
        "We'll use a polynomial basis. This can be implemented with the\n",
        "`PolynomialFeatures` class in `sklearn`. We'll first try a cubic polynomial."
      ]
    },
    {
      "cell_type": "code",
      "metadata": {
        "autoscroll": false,
        "ein.hycell": false,
        "ein.tags": "worksheet-0",
        "id": "B5szT1PI2kwJ",
        "colab_type": "code",
        "outputId": "a48de010-9787-4dc0-f01d-a01575eb66d1",
        "colab": {
          "base_uri": "https://localhost:8080/",
          "height": 102
        }
      },
      "source": [
        "from sklearn.preprocessing import PolynomialFeatures\n",
        "poly = PolynomialFeatures(3, include_bias=False)\n",
        "hx = poly.fit_transform(x[:, np.newaxis])\n",
        "hx[:5] ## Q: What do the columns here correspond to?\n",
        "                                       "
      ],
      "execution_count": 15,
      "outputs": [
        {
          "output_type": "execute_result",
          "data": {
            "text/plain": [
              "array([[  7.55082188,  57.01491113, 430.50943874],\n",
              "       [  6.98057248,  48.72839221, 340.15207388],\n",
              "       [  8.6447943 ,  74.7324685 , 646.04681774],\n",
              "       [  3.22680997,  10.41230257,  33.59852173],\n",
              "       [  6.70788791,  44.99576018, 301.82651565]])"
            ]
          },
          "metadata": {
            "tags": []
          },
          "execution_count": 15
        }
      ]
    },
    {
      "cell_type": "markdown",
      "metadata": {
        "id": "Wl-2dIb19tKf",
        "colab_type": "text"
      },
      "source": [
        "These are x^2 and x^3 in the other columns"
      ]
    },
    {
      "cell_type": "code",
      "metadata": {
        "autoscroll": false,
        "ein.hycell": false,
        "ein.tags": "worksheet-0",
        "id": "W-6X79eC2kwP",
        "colab_type": "code",
        "outputId": "5e074f91-4c4e-4466-f71b-ec69b6caef69",
        "colab": {
          "base_uri": "https://localhost:8080/",
          "height": 286
        }
      },
      "source": [
        "model = LinearRegression()\n",
        "model.fit(hx, y)\n",
        "h_eval = poly.fit_transform(x_eval[:, np.newaxis])\n",
        "f_hat = model.predict(h_eval)\n",
        "\n",
        "sns.scatterplot(x, y)\n",
        "sns.lineplot(x_eval, f_hat, color=\"orange\")"
      ],
      "execution_count": 16,
      "outputs": [
        {
          "output_type": "execute_result",
          "data": {
            "text/plain": [
              "<matplotlib.axes._subplots.AxesSubplot at 0x7f18b1b44fd0>"
            ]
          },
          "metadata": {
            "tags": []
          },
          "execution_count": 16
        },
        {
          "output_type": "display_data",
          "data": {
            "image/png": "[encoded data removed]",
            "text/plain": [
              "<Figure size 432x288 with 1 Axes>"
            ]
          },
          "metadata": {
            "tags": []
          }
        }
      ]
    },
    {
      "cell_type": "markdown",
      "metadata": {
        "id": "IsOGy27c2kwX",
        "colab_type": "text"
      },
      "source": [
        "Not so great... but we shouldn't have expected a 3rd degree polynomial to fit something with three local extreme. Instead, let's fit a 7th degree polynomial."
      ]
    },
    {
      "cell_type": "code",
      "metadata": {
        "autoscroll": false,
        "ein.hycell": false,
        "ein.tags": "worksheet-0",
        "id": "TRoFX8sz2kwY",
        "colab_type": "code",
        "outputId": "020a8259-afba-49ec-d40c-3c4d0b0b7a85",
        "colab": {
          "base_uri": "https://localhost:8080/",
          "height": 286
        }
      },
      "source": [
        "poly = PolynomialFeatures(7, include_bias=False)\n",
        "hx = poly.fit_transform(x[:, np.newaxis])\n",
        "model.fit(hx, y)\n",
        "h_eval = poly.fit_transform(x_eval[:, np.newaxis])\n",
        "f_hat = model.predict(h_eval)\n",
        "\n",
        "sns.scatterplot(x, y)\n",
        "sns.lineplot(x_eval, f_hat, color=\"orange\")"
      ],
      "execution_count": 19,
      "outputs": [
        {
          "output_type": "execute_result",
          "data": {
            "text/plain": [
              "<matplotlib.axes._subplots.AxesSubplot at 0x7f18b1a9bef0>"
            ]
          },
          "metadata": {
            "tags": []
          },
          "execution_count": 19
        },
        {
          "output_type": "display_data",
          "data": {
            "image/png": "[encoded data removed]",
            "text/plain": [
              "<Figure size 432x288 with 1 Axes>"
            ]
          },
          "metadata": {
            "tags": []
          }
        }
      ]
    },
    {
      "cell_type": "code",
      "metadata": {
        "id": "ErQKnWmv-0Cr",
        "colab_type": "code",
        "colab": {}
      },
      "source": [
        ""
      ],
      "execution_count": 0,
      "outputs": []
    },
    {
      "cell_type": "markdown",
      "metadata": {
        "id": "pz6KREga2kwf",
        "colab_type": "text"
      },
      "source": [
        "As explained in the last lecture, a downside of this approach is that global polynomial fits can be very sensitive to small changes. You can already tell this by seeing how large the values in `hx` got in some of the columns. A change in one region can have an affect on the fit somewhere very far away. Instead, let's consider a more local fit. Here, we'll consider a piecewise constant fit. This isn't built into the sklearn preprocessing module, it's not a bad exercise to try implementing it ourselves. It turns out to be even simpler than the `GaussianFeatures` example in the PDS reading."
      ]
    },
    {
      "cell_type": "code",
      "metadata": {
        "id": "B84PCGHO2kwk",
        "colab_type": "code",
        "colab": {}
      },
      "source": [
        "from sklearn.base import BaseEstimator, TransformerMixin\n",
        "\n",
        "class PiecewiseConstant(BaseEstimator, TransformerMixin):\n",
        "    def __init__(self, knots):\n",
        "        self.knots = knots\n",
        "        \n",
        "    def _indicators(self, x):\n",
        "        h = np.zeros([x.shape[0], len(self.knots)])\n",
        "        for k_ix, k in enumerate(self.knots):\n",
        "            h[:, k_ix] = x > k\n",
        "        \n",
        "        return h\n",
        "    \n",
        "    def fit(self, x, y=None):\n",
        "        return self._indicators(x)"
      ],
      "execution_count": 0,
      "outputs": []
    },
    {
      "cell_type": "code",
      "metadata": {
        "id": "eewHSBdO2kwn",
        "colab_type": "code",
        "outputId": "02c99e73-0a56-4b19-c13c-f98450e325a3",
        "colab": {
          "base_uri": "https://localhost:8080/",
          "height": 286
        }
      },
      "source": [
        "import numpy as np\n",
        "indics = PiecewiseConstant(np.linspace(0.5, 9.5, 10))\n",
        "hx = indics.fit(x)\n",
        "model.fit(hx, y)\n",
        "\n",
        "h_eval = indics.fit(x_eval)\n",
        "f_hat = model.predict(h_eval)\n",
        "\n",
        "sns.scatterplot(x, y)\n",
        "sns.lineplot(x_eval, f_hat, color=\"orange\")"
      ],
      "execution_count": 26,
      "outputs": [
        {
          "output_type": "execute_result",
          "data": {
            "text/plain": [
              "<matplotlib.axes._subplots.AxesSubplot at 0x7f18b19f76a0>"
            ]
          },
          "metadata": {
            "tags": []
          },
          "execution_count": 26
        },
        {
          "output_type": "display_data",
          "data": {
            "image/png": "[encoded data removed]",
            "text/plain": [
              "<Figure size 432x288 with 1 Axes>"
            ]
          },
          "metadata": {
            "tags": []
          }
        }
      ]
    },
    {
      "cell_type": "code",
      "metadata": {
        "id": "3zK6RXZR-JBh",
        "colab_type": "code",
        "colab": {}
      },
      "source": [
        ""
      ],
      "execution_count": 0,
      "outputs": []
    }
  ]
}