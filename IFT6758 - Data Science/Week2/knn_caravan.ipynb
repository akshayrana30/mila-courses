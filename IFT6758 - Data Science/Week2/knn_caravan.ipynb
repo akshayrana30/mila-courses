{
  "nbformat": 4,
  "nbformat_minor": 0,
  "metadata": {
    "kernelspec": {
      "display_name": "Python 3",
      "language": "python",
      "name": "python3"
    },
    "language_info": {
      "codemirror_mode": {
        "name": "ipython",
        "version": 3
      },
      "file_extension": ".py",
      "mimetype": "text/x-python",
      "name": "python",
      "nbconvert_exporter": "python",
      "pygments_lexer": "ipython3",
      "version": "3.7.3"
    },
    "name": "knn_caravan.ipynb",
    "colab": {
      "name": "knn_caravan.ipynb",
      "version": "0.3.2",
      "provenance": [],
      "include_colab_link": true
    }
  },
  "cells": [
    {
      "cell_type": "markdown",
      "metadata": {
        "id": "view-in-github",
        "colab_type": "text"
      },
      "source": [
        "<a href=\"https://colab.research.google.com/github/akshayrana30/mila-courses/blob/master/knn_caravan.ipynb\" target=\"_parent\"><img src=\"https://colab.research.google.com/assets/colab-badge.svg\" alt=\"Open In Colab\"/></a>"
      ]
    },
    {
      "cell_type": "markdown",
      "metadata": {
        "ein.tags": "worksheet-0",
        "id": "5YaeZxp00ttG",
        "colab_type": "text"
      },
      "source": [
        "## Classification [KNN and Logistic Regression]\n"
      ]
    },
    {
      "cell_type": "markdown",
      "metadata": {
        "ein.tags": "worksheet-0",
        "id": "-qmAmhpn0ttH",
        "colab_type": "text"
      },
      "source": [
        "This notebook looks at classification with the caravan insurance data. It's\n",
        "the python equivalent of section `4.6.6` in ISLR. A reminder about the data --\n",
        "it describes the demographic characteristics of 5822 people, to see whether they\n",
        "will buy an insurance policy. These people are measured along 85 predictors. A\n",
        "full description of the dataset is\n",
        "[here](http://liacs.leidenuniv.nl/~puttenpwhvander/library/cc2000/data.html) (be\n",
        "forewarned, some of the column descriptions a little strange...).\n",
        "\n",
        "First, let's look at how many people actually buy a policy."
      ]
    },
    {
      "cell_type": "code",
      "metadata": {
        "autoscroll": false,
        "ein.hycell": false,
        "ein.tags": "worksheet-0",
        "id": "rI8my9Tp0ttK",
        "colab_type": "code",
        "colab": {},
        "outputId": "d2e5ffa8-9bf0-477b-ae2f-32854e657761"
      },
      "source": [
        "import pandas as pd\n",
        "import numpy as np\n",
        "import seaborn as sns\n",
        "import matplotlib.pyplot as plt\n",
        "\n",
        "caravan = pd.read_csv(\"https://gist.githubusercontent.com/krisrs1128/6aff9485a56fb4b26bb6271f7fd70a53/raw/de9f7cbc642871bcac7c055224ea12161982b523/caravan.csv\")\n",
        "n = len(caravan)\n",
        "caravan[\"Purchase\"].value_counts() / n"
      ],
      "execution_count": 0,
      "outputs": [
        {
          "output_type": "execute_result",
          "data": {
            "text/plain": [
              "No     0.940227\n",
              "Yes    0.059773\n",
              "Name: Purchase, dtype: float64"
            ]
          },
          "metadata": {
            "tags": []
          },
          "execution_count": 54
        }
      ]
    },
    {
      "cell_type": "markdown",
      "metadata": {
        "ein.tags": "worksheet-0",
        "id": "oRlaCDjg0ttQ",
        "colab_type": "text"
      },
      "source": [
        "So, not too many. We'll need to keep this baseline rate in mind when evaluating model performance (it's possible to get 94% accuracy by predicting that no one will buy insurance). Before trying to fit a KNN, let's look at the predictors."
      ]
    },
    {
      "cell_type": "code",
      "metadata": {
        "autoscroll": false,
        "ein.hycell": false,
        "ein.tags": "worksheet-0",
        "id": "rw6BFWKo0ttR",
        "colab_type": "code",
        "colab": {},
        "outputId": "f3817cf4-8f53-4598-f000-82b6f603dd9f"
      },
      "source": [
        "caravan.describe()\n"
      ],
      "execution_count": 0,
      "outputs": [
        {
          "output_type": "execute_result",
          "data": {
            "text/html": [
              "<div>\n",
              "<style scoped>\n",
              "    .dataframe tbody tr th:only-of-type {\n",
              "        vertical-align: middle;\n",
              "    }\n",
              "\n",
              "    .dataframe tbody tr th {\n",
              "        vertical-align: top;\n",
              "    }\n",
              "\n",
              "    .dataframe thead th {\n",
              "        text-align: right;\n",
              "    }\n",
              "</style>\n",
              "<table border=\"1\" class=\"dataframe\">\n",
              "  <thead>\n",
              "    <tr style=\"text-align: right;\">\n",
              "      <th></th>\n",
              "      <th>MOSTYPE</th>\n",
              "      <th>MAANTHUI</th>\n",
              "      <th>MGEMOMV</th>\n",
              "      <th>MGEMLEEF</th>\n",
              "      <th>MOSHOOFD</th>\n",
              "      <th>MGODRK</th>\n",
              "      <th>MGODPR</th>\n",
              "      <th>MGODOV</th>\n",
              "      <th>MGODGE</th>\n",
              "      <th>MRELGE</th>\n",
              "      <th>...</th>\n",
              "      <th>ALEVEN</th>\n",
              "      <th>APERSONG</th>\n",
              "      <th>AGEZONG</th>\n",
              "      <th>AWAOREG</th>\n",
              "      <th>ABRAND</th>\n",
              "      <th>AZEILPL</th>\n",
              "      <th>APLEZIER</th>\n",
              "      <th>AFIETS</th>\n",
              "      <th>AINBOED</th>\n",
              "      <th>ABYSTAND</th>\n",
              "    </tr>\n",
              "  </thead>\n",
              "  <tbody>\n",
              "    <tr>\n",
              "      <td>count</td>\n",
              "      <td>5822.000000</td>\n",
              "      <td>5822.000000</td>\n",
              "      <td>5822.000000</td>\n",
              "      <td>5822.000000</td>\n",
              "      <td>5822.000000</td>\n",
              "      <td>5822.000000</td>\n",
              "      <td>5822.000000</td>\n",
              "      <td>5822.000000</td>\n",
              "      <td>5822.000000</td>\n",
              "      <td>5822.000000</td>\n",
              "      <td>...</td>\n",
              "      <td>5822.000000</td>\n",
              "      <td>5822.000000</td>\n",
              "      <td>5822.000000</td>\n",
              "      <td>5822.000000</td>\n",
              "      <td>5822.000000</td>\n",
              "      <td>5822.000000</td>\n",
              "      <td>5822.000000</td>\n",
              "      <td>5822.000000</td>\n",
              "      <td>5822.000000</td>\n",
              "      <td>5822.000000</td>\n",
              "    </tr>\n",
              "    <tr>\n",
              "      <td>mean</td>\n",
              "      <td>24.253349</td>\n",
              "      <td>1.110615</td>\n",
              "      <td>2.678805</td>\n",
              "      <td>2.991240</td>\n",
              "      <td>5.773617</td>\n",
              "      <td>0.696496</td>\n",
              "      <td>4.626932</td>\n",
              "      <td>1.069907</td>\n",
              "      <td>3.258502</td>\n",
              "      <td>6.183442</td>\n",
              "      <td>...</td>\n",
              "      <td>0.076606</td>\n",
              "      <td>0.005325</td>\n",
              "      <td>0.006527</td>\n",
              "      <td>0.004638</td>\n",
              "      <td>0.570079</td>\n",
              "      <td>0.000515</td>\n",
              "      <td>0.006012</td>\n",
              "      <td>0.031776</td>\n",
              "      <td>0.007901</td>\n",
              "      <td>0.014256</td>\n",
              "    </tr>\n",
              "    <tr>\n",
              "      <td>std</td>\n",
              "      <td>12.846706</td>\n",
              "      <td>0.405842</td>\n",
              "      <td>0.789835</td>\n",
              "      <td>0.814589</td>\n",
              "      <td>2.856760</td>\n",
              "      <td>1.003234</td>\n",
              "      <td>1.715843</td>\n",
              "      <td>1.017503</td>\n",
              "      <td>1.597647</td>\n",
              "      <td>1.909482</td>\n",
              "      <td>...</td>\n",
              "      <td>0.377569</td>\n",
              "      <td>0.072782</td>\n",
              "      <td>0.080532</td>\n",
              "      <td>0.077403</td>\n",
              "      <td>0.562058</td>\n",
              "      <td>0.022696</td>\n",
              "      <td>0.081632</td>\n",
              "      <td>0.210986</td>\n",
              "      <td>0.090463</td>\n",
              "      <td>0.119996</td>\n",
              "    </tr>\n",
              "    <tr>\n",
              "      <td>min</td>\n",
              "      <td>1.000000</td>\n",
              "      <td>1.000000</td>\n",
              "      <td>1.000000</td>\n",
              "      <td>1.000000</td>\n",
              "      <td>1.000000</td>\n",
              "      <td>0.000000</td>\n",
              "      <td>0.000000</td>\n",
              "      <td>0.000000</td>\n",
              "      <td>0.000000</td>\n",
              "      <td>0.000000</td>\n",
              "      <td>...</td>\n",
              "      <td>0.000000</td>\n",
              "      <td>0.000000</td>\n",
              "      <td>0.000000</td>\n",
              "      <td>0.000000</td>\n",
              "      <td>0.000000</td>\n",
              "      <td>0.000000</td>\n",
              "      <td>0.000000</td>\n",
              "      <td>0.000000</td>\n",
              "      <td>0.000000</td>\n",
              "      <td>0.000000</td>\n",
              "    </tr>\n",
              "    <tr>\n",
              "      <td>25%</td>\n",
              "      <td>10.000000</td>\n",
              "      <td>1.000000</td>\n",
              "      <td>2.000000</td>\n",
              "      <td>2.000000</td>\n",
              "      <td>3.000000</td>\n",
              "      <td>0.000000</td>\n",
              "      <td>4.000000</td>\n",
              "      <td>0.000000</td>\n",
              "      <td>2.000000</td>\n",
              "      <td>5.000000</td>\n",
              "      <td>...</td>\n",
              "      <td>0.000000</td>\n",
              "      <td>0.000000</td>\n",
              "      <td>0.000000</td>\n",
              "      <td>0.000000</td>\n",
              "      <td>0.000000</td>\n",
              "      <td>0.000000</td>\n",
              "      <td>0.000000</td>\n",
              "      <td>0.000000</td>\n",
              "      <td>0.000000</td>\n",
              "      <td>0.000000</td>\n",
              "    </tr>\n",
              "    <tr>\n",
              "      <td>50%</td>\n",
              "      <td>30.000000</td>\n",
              "      <td>1.000000</td>\n",
              "      <td>3.000000</td>\n",
              "      <td>3.000000</td>\n",
              "      <td>7.000000</td>\n",
              "      <td>0.000000</td>\n",
              "      <td>5.000000</td>\n",
              "      <td>1.000000</td>\n",
              "      <td>3.000000</td>\n",
              "      <td>6.000000</td>\n",
              "      <td>...</td>\n",
              "      <td>0.000000</td>\n",
              "      <td>0.000000</td>\n",
              "      <td>0.000000</td>\n",
              "      <td>0.000000</td>\n",
              "      <td>1.000000</td>\n",
              "      <td>0.000000</td>\n",
              "      <td>0.000000</td>\n",
              "      <td>0.000000</td>\n",
              "      <td>0.000000</td>\n",
              "      <td>0.000000</td>\n",
              "    </tr>\n",
              "    <tr>\n",
              "      <td>75%</td>\n",
              "      <td>35.000000</td>\n",
              "      <td>1.000000</td>\n",
              "      <td>3.000000</td>\n",
              "      <td>3.000000</td>\n",
              "      <td>8.000000</td>\n",
              "      <td>1.000000</td>\n",
              "      <td>6.000000</td>\n",
              "      <td>2.000000</td>\n",
              "      <td>4.000000</td>\n",
              "      <td>7.000000</td>\n",
              "      <td>...</td>\n",
              "      <td>0.000000</td>\n",
              "      <td>0.000000</td>\n",
              "      <td>0.000000</td>\n",
              "      <td>0.000000</td>\n",
              "      <td>1.000000</td>\n",
              "      <td>0.000000</td>\n",
              "      <td>0.000000</td>\n",
              "      <td>0.000000</td>\n",
              "      <td>0.000000</td>\n",
              "      <td>0.000000</td>\n",
              "    </tr>\n",
              "    <tr>\n",
              "      <td>max</td>\n",
              "      <td>41.000000</td>\n",
              "      <td>10.000000</td>\n",
              "      <td>5.000000</td>\n",
              "      <td>6.000000</td>\n",
              "      <td>10.000000</td>\n",
              "      <td>9.000000</td>\n",
              "      <td>9.000000</td>\n",
              "      <td>5.000000</td>\n",
              "      <td>9.000000</td>\n",
              "      <td>9.000000</td>\n",
              "      <td>...</td>\n",
              "      <td>8.000000</td>\n",
              "      <td>1.000000</td>\n",
              "      <td>1.000000</td>\n",
              "      <td>2.000000</td>\n",
              "      <td>7.000000</td>\n",
              "      <td>1.000000</td>\n",
              "      <td>2.000000</td>\n",
              "      <td>3.000000</td>\n",
              "      <td>2.000000</td>\n",
              "      <td>2.000000</td>\n",
              "    </tr>\n",
              "  </tbody>\n",
              "</table>\n",
              "<p>8 rows × 85 columns</p>\n",
              "</div>"
            ],
            "text/plain": [
              "           MOSTYPE     MAANTHUI      MGEMOMV     MGEMLEEF     MOSHOOFD       MGODRK       MGODPR       MGODOV       MGODGE       MRELGE  ...       ALEVEN     APERSONG      AGEZONG      AWAOREG       ABRAND      AZEILPL     APLEZIER       AFIETS      AINBOED     ABYSTAND\n",
              "count  5822.000000  5822.000000  5822.000000  5822.000000  5822.000000  5822.000000  5822.000000  5822.000000  5822.000000  5822.000000  ...  5822.000000  5822.000000  5822.000000  5822.000000  5822.000000  5822.000000  5822.000000  5822.000000  5822.000000  5822.000000\n",
              "mean     24.253349     1.110615     2.678805     2.991240     5.773617     0.696496     4.626932     1.069907     3.258502     6.183442  ...     0.076606     0.005325     0.006527     0.004638     0.570079     0.000515     0.006012     0.031776     0.007901     0.014256\n",
              "std      12.846706     0.405842     0.789835     0.814589     2.856760     1.003234     1.715843     1.017503     1.597647     1.909482  ...     0.377569     0.072782     0.080532     0.077403     0.562058     0.022696     0.081632     0.210986     0.090463     0.119996\n",
              "min       1.000000     1.000000     1.000000     1.000000     1.000000     0.000000     0.000000     0.000000     0.000000     0.000000  ...     0.000000     0.000000     0.000000     0.000000     0.000000     0.000000     0.000000     0.000000     0.000000     0.000000\n",
              "25%      10.000000     1.000000     2.000000     2.000000     3.000000     0.000000     4.000000     0.000000     2.000000     5.000000  ...     0.000000     0.000000     0.000000     0.000000     0.000000     0.000000     0.000000     0.000000     0.000000     0.000000\n",
              "50%      30.000000     1.000000     3.000000     3.000000     7.000000     0.000000     5.000000     1.000000     3.000000     6.000000  ...     0.000000     0.000000     0.000000     0.000000     1.000000     0.000000     0.000000     0.000000     0.000000     0.000000\n",
              "75%      35.000000     1.000000     3.000000     3.000000     8.000000     1.000000     6.000000     2.000000     4.000000     7.000000  ...     0.000000     0.000000     0.000000     0.000000     1.000000     0.000000     0.000000     0.000000     0.000000     0.000000\n",
              "max      41.000000    10.000000     5.000000     6.000000    10.000000     9.000000     9.000000     5.000000     9.000000     9.000000  ...     8.000000     1.000000     1.000000     2.000000     7.000000     1.000000     2.000000     3.000000     2.000000     2.000000\n",
              "\n",
              "[8 rows x 85 columns]"
            ]
          },
          "metadata": {
            "tags": []
          },
          "execution_count": 26
        }
      ]
    },
    {
      "cell_type": "code",
      "metadata": {
        "autoscroll": false,
        "ein.hycell": false,
        "ein.tags": "worksheet-0",
        "id": "zk0lfgS50ttU",
        "colab_type": "code",
        "colab": {},
        "outputId": "fefb922b-d2ec-468d-bd4e-a42d0a33cbfe"
      },
      "source": [
        "caravan.std().sort_values()"
      ],
      "execution_count": 0,
      "outputs": [
        {
          "output_type": "execute_result",
          "data": {
            "text/plain": [
              "AZEILPL      0.022696\n",
              "PZEILPL      0.043462\n",
              "AVRAAUT      0.062819\n",
              "APERSONG     0.072782\n",
              "AWAOREG      0.077403\n",
              "              ...    \n",
              "MOSHOOFD     2.856760\n",
              "PPERSAUT     2.920669\n",
              "MHHUUR       3.089302\n",
              "MHKOOP       3.089837\n",
              "MOSTYPE     12.846706\n",
              "Length: 85, dtype: float64"
            ]
          },
          "metadata": {
            "tags": []
          },
          "execution_count": 241
        }
      ]
    },
    {
      "cell_type": "markdown",
      "metadata": {
        "ein.tags": "worksheet-0",
        "id": "I-v3ze8q0ttZ",
        "colab_type": "text"
      },
      "source": [
        "It can be more informative to make histograms as well."
      ]
    },
    {
      "cell_type": "code",
      "metadata": {
        "autoscroll": false,
        "ein.hycell": false,
        "ein.tags": "worksheet-0",
        "id": "QH-l8pvZ0ttb",
        "colab_type": "code",
        "colab": {},
        "outputId": "26018103-a0ae-492f-85bb-eec6caa0806b"
      },
      "source": [
        "sns.distplot(caravan[\"AZEILPL\"], kde=False) # income class"
      ],
      "execution_count": 0,
      "outputs": [
        {
          "output_type": "execute_result",
          "data": {
            "text/plain": [
              "<matplotlib.axes._subplots.AxesSubplot at 0x11e69de10>"
            ]
          },
          "metadata": {
            "tags": []
          },
          "execution_count": 242
        },
        {
          "output_type": "display_data",
          "data": {
            "image/png": "[encoded data removed]",
            "text/plain": [
              "<Figure size 432x288 with 1 Axes>"
            ]
          },
          "metadata": {
            "tags": [],
            "needs_background": "light"
          }
        }
      ]
    },
    {
      "cell_type": "code",
      "metadata": {
        "autoscroll": false,
        "ein.hycell": false,
        "ein.tags": "worksheet-0",
        "id": "hYMTEzh40tte",
        "colab_type": "code",
        "colab": {},
        "outputId": "8c6a5fb2-3e68-462e-a258-4487081171a8"
      },
      "source": [
        "sns.distplot(caravan[\"MOSTYPE\"], kde=False) # number of car policies.\n"
      ],
      "execution_count": 0,
      "outputs": [
        {
          "output_type": "execute_result",
          "data": {
            "text/plain": [
              "<matplotlib.axes._subplots.AxesSubplot at 0x11d30feb8>"
            ]
          },
          "metadata": {
            "tags": []
          },
          "execution_count": 243
        },
        {
          "output_type": "display_data",
          "data": {
            "image/png": "[encoded data removed]",
            "text/plain": [
              "<Figure size 432x288 with 1 Axes>"
            ]
          },
          "metadata": {
            "tags": [],
            "needs_background": "light"
          }
        }
      ]
    },
    {
      "cell_type": "markdown",
      "metadata": {
        "ein.tags": "worksheet-0",
        "id": "w8hxN93v0tti",
        "colab_type": "text"
      },
      "source": [
        "We notice an immediate problem: the columns aren't all on the same scale. The\n",
        "distance between samples will be very sensitive to the scales at which variables\n",
        "were measured. Variables with very large ranges will artificially have more\n",
        "influence in the determination of whether to samples are close to each other.\n",
        "For this reason, it makes sense to normalize the columns.\n"
      ]
    },
    {
      "cell_type": "code",
      "metadata": {
        "autoscroll": false,
        "ein.hycell": false,
        "ein.tags": "worksheet-0",
        "id": "dnbYM20f0ttj",
        "colab_type": "code",
        "colab": {}
      },
      "source": [
        "from sklearn import preprocessing\n",
        "\n",
        "x = caravan.iloc[:, :-1]\n",
        "y = caravan[\"Purchase\"].map(lambda z: 1 if z == \"Yes\" else 0)\n",
        "x = (x - x.mean()) / x.std()\n"
      ],
      "execution_count": 0,
      "outputs": []
    },
    {
      "cell_type": "markdown",
      "metadata": {
        "ein.tags": "worksheet-0",
        "id": "FQLWTZNT0ttm",
        "colab_type": "text"
      },
      "source": [
        "If we look at the variables again, they're now all on about the same scale."
      ]
    },
    {
      "cell_type": "code",
      "metadata": {
        "autoscroll": false,
        "ein.hycell": false,
        "ein.tags": "worksheet-0",
        "id": "D5MniHvp0ttm",
        "colab_type": "code",
        "colab": {},
        "outputId": "cf3ec6c3-e2f4-4eda-e79d-3aad77e62098"
      },
      "source": [
        "sns.distplot(x[\"AZEILPL\"], kde=False) # income class\n"
      ],
      "execution_count": 0,
      "outputs": [
        {
          "output_type": "execute_result",
          "data": {
            "text/plain": [
              "<matplotlib.axes._subplots.AxesSubplot at 0x11da3c780>"
            ]
          },
          "metadata": {
            "tags": []
          },
          "execution_count": 245
        },
        {
          "output_type": "display_data",
          "data": {
            "image/png": "[encoded data removed]",
            "text/plain": [
              "<Figure size 432x288 with 1 Axes>"
            ]
          },
          "metadata": {
            "tags": [],
            "needs_background": "light"
          }
        }
      ]
    },
    {
      "cell_type": "code",
      "metadata": {
        "autoscroll": false,
        "ein.hycell": false,
        "ein.tags": "worksheet-0",
        "id": "K6EGfzIc0ttq",
        "colab_type": "code",
        "colab": {},
        "outputId": "871ef791-681d-4ffc-c42e-45cc7231ba10"
      },
      "source": [
        "sns.distplot(x[\"MOSTYPE\"], kde=False)\n"
      ],
      "execution_count": 0,
      "outputs": [
        {
          "output_type": "execute_result",
          "data": {
            "text/plain": [
              "<matplotlib.axes._subplots.AxesSubplot at 0x118eaebe0>"
            ]
          },
          "metadata": {
            "tags": []
          },
          "execution_count": 246
        },
        {
          "output_type": "display_data",
          "data": {
            "image/png": "[encoded data removed]",
            "text/plain": [
              "<Figure size 432x288 with 1 Axes>"
            ]
          },
          "metadata": {
            "tags": [],
            "needs_background": "light"
          }
        }
      ]
    },
    {
      "cell_type": "code",
      "metadata": {
        "autoscroll": false,
        "ein.hycell": false,
        "ein.tags": "worksheet-0",
        "id": "YIWVM_Bl0ttt",
        "colab_type": "code",
        "colab": {},
        "outputId": "fdc7e7d6-8f0e-479a-d2fc-8802bdf00bb0"
      },
      "source": [
        "x.std()\n"
      ],
      "execution_count": 0,
      "outputs": [
        {
          "output_type": "execute_result",
          "data": {
            "text/plain": [
              "MOSTYPE     1.0\n",
              "MAANTHUI    1.0\n",
              "MGEMOMV     1.0\n",
              "MGEMLEEF    1.0\n",
              "MOSHOOFD    1.0\n",
              "           ... \n",
              "AZEILPL     1.0\n",
              "APLEZIER    1.0\n",
              "AFIETS      1.0\n",
              "AINBOED     1.0\n",
              "ABYSTAND    1.0\n",
              "Length: 85, dtype: float64"
            ]
          },
          "metadata": {
            "tags": []
          },
          "execution_count": 247
        }
      ]
    },
    {
      "cell_type": "markdown",
      "metadata": {
        "ein.tags": "worksheet-0",
        "id": "-Q6rh3kK0tty",
        "colab_type": "text"
      },
      "source": [
        "Now, let's fit a KNN classifier. We'll hold out a test set, so we can honestly\n",
        "evaluate performance. It seems that the precision is a bit larger than the 6\\%\n",
        "baseline we'd expect by random guessing. Though, run the cell a few times to\n",
        "observe the variability in the test error: our guess of the generalization\n",
        "performance is itself subject to estimation error. We'll revisit this idea next\n",
        "week."
      ]
    },
    {
      "cell_type": "code",
      "metadata": {
        "autoscroll": false,
        "ein.hycell": false,
        "ein.tags": "worksheet-0",
        "id": "MLlyphxW0ttz",
        "colab_type": "code",
        "colab": {},
        "outputId": "1ac4a2fa-4ec0-401a-bd1c-f162df12f99b"
      },
      "source": [
        "from sklearn.model_selection import train_test_split\n",
        "from sklearn.neighbors import KNeighborsClassifier\n",
        "\n",
        "x_train, x_test, y_train, y_test= train_test_split(x, y, test_size=0.3)\n",
        "model = KNeighborsClassifier(n_neighbors=1)\n",
        "model.fit(x_train, y_train)\n",
        "y_hat = model.predict(x_test)\n",
        "errors = pd.crosstab(y_hat, y_test)\n",
        "print(errors)\n",
        "errors.iloc[1, 1] / np.sum(y_hat)\n"
      ],
      "execution_count": 0,
      "outputs": [
        {
          "output_type": "stream",
          "text": [
            "Purchase     0   1\n",
            "row_0             \n",
            "0         1556  95\n",
            "1           88   8\n"
          ],
          "name": "stdout"
        },
        {
          "output_type": "execute_result",
          "data": {
            "text/plain": [
              "0.08333333333333333"
            ]
          },
          "metadata": {
            "tags": []
          },
          "execution_count": 251
        }
      ]
    },
    {
      "cell_type": "markdown",
      "metadata": {
        "ein.tags": "worksheet-0",
        "id": "7YvJtWHd0tt3",
        "colab_type": "text"
      },
      "source": [
        "### Logistic Regression"
      ]
    },
    {
      "cell_type": "markdown",
      "metadata": {
        "ein.tags": "worksheet-0",
        "id": "UoGnEgkP0tt5",
        "colab_type": "text"
      },
      "source": [
        "Let's apply logistic regression to the same dataset. The predicted probabilities\n",
        "here are going to be more informative than those in KNN (which would always be\n",
        "multiples of $\\frac{1}{K}$), so it's worth looking at them, in addition to the error rates."
      ]
    },
    {
      "cell_type": "code",
      "metadata": {
        "autoscroll": false,
        "ein.hycell": false,
        "ein.tags": "worksheet-0",
        "id": "Lgm8Cnqo0tt6",
        "colab_type": "code",
        "colab": {},
        "outputId": "9fcb946d-300f-44b9-a579-646328302bf9"
      },
      "source": [
        "from sklearn.linear_model import LogisticRegression\n",
        "model = LogisticRegression()\n",
        "model.fit(x_train, y_train)\n",
        "\n",
        "p_hat = model.predict_proba(x_test)[:, 1]\n",
        "preds = pd.DataFrame(\n",
        "  np.stack([\n",
        "    p_hat,\n",
        "    p_hat > 0.25,\n",
        "    y_test\n",
        "  ], axis=1)\n",
        ")\n",
        "preds.columns = [\"p1\", \"y_hat\", \"y\"]\n",
        "preds = preds.reset_index()\n",
        "\n",
        "fig, ax = plt.subplots(figsize=(4,4))\n",
        "ax.hist([preds.loc[preds[\"y\"] == 1, \"p1\"],preds.loc[preds[\"y\"] == 0, \"p1\"]])\n"
      ],
      "execution_count": 0,
      "outputs": [
        {
          "output_type": "stream",
          "text": [
            "/usr/local/lib/python3.7/site-packages/sklearn/linear_model/logistic.py:432: FutureWarning: Default solver will be changed to 'lbfgs' in 0.22. Specify a solver to silence this warning.\n",
            "  FutureWarning)\n"
          ],
          "name": "stderr"
        },
        {
          "output_type": "execute_result",
          "data": {
            "text/plain": [
              "([array([42., 31., 19.,  9.,  1.,  0.,  0.,  0.,  0.,  1.]),\n",
              "  array([1.252e+03, 2.700e+02, 7.700e+01, 2.500e+01, 9.000e+00, 6.000e+00,\n",
              "         0.000e+00, 1.000e+00, 2.000e+00, 2.000e+00])],\n",
              " array([9.11216965e-06, 7.19768209e-02, 1.43944530e-01, 2.15912238e-01,\n",
              "        2.87879947e-01, 3.59847656e-01, 4.31815365e-01, 5.03783074e-01,\n",
              "        5.75750782e-01, 6.47718491e-01, 7.19686200e-01]),\n",
              " <a list of 2 Lists of Patches objects>)"
            ]
          },
          "metadata": {
            "tags": []
          },
          "execution_count": 252
        },
        {
          "output_type": "display_data",
          "data": {
            "image/png": "[encoded data removed]",
            "text/plain": [
              "<Figure size 288x288 with 1 Axes>"
            ]
          },
          "metadata": {
            "tags": [],
            "needs_background": "light"
          }
        }
      ]
    },
    {
      "cell_type": "markdown",
      "metadata": {
        "ein.tags": "worksheet-0",
        "id": "FEhWIGV-0tuA",
        "colab_type": "text"
      },
      "source": [
        "The fact that the relative decay of the blue bars (true purchasers) is more\n",
        "gradual than that for the orange bars (nonpurchasers) is a good sign. We can\n",
        "also make a table of errors, like before. The performance seems noticeably\n",
        "better.\n",
        "\n",
        "A useful exercise is to change the probability cutoff used to declare someone a\n",
        "purchaser or a nonpurchaser, and see how the precision (the error rate we're\n",
        "plotting) changes as a consequence."
      ]
    },
    {
      "cell_type": "code",
      "metadata": {
        "autoscroll": false,
        "ein.hycell": false,
        "ein.tags": "worksheet-0",
        "id": "ZOzwe1Ge0tuB",
        "colab_type": "code",
        "colab": {},
        "outputId": "9ad34eec-ac01-4f51-b3f5-c7fb10b2a9fd"
      },
      "source": [
        "errors = pd.crosstab(preds[\"y_hat\"], preds[\"y\"])\n",
        "print(errors)\n",
        "errors.iloc[1, 1] / np.sum(preds[\"y_hat\"])\n"
      ],
      "execution_count": 0,
      "outputs": [
        {
          "output_type": "stream",
          "text": [
            "y       0.0  1.0\n",
            "y_hat           \n",
            "0.0    1615   95\n",
            "1.0      29    8\n"
          ],
          "name": "stdout"
        },
        {
          "output_type": "execute_result",
          "data": {
            "text/plain": [
              "0.21621621621621623"
            ]
          },
          "metadata": {
            "tags": []
          },
          "execution_count": 253
        }
      ]
    },
    {
      "cell_type": "markdown",
      "metadata": {
        "ein.tags": "worksheet-0",
        "id": "FjPqZSGt0tuE",
        "colab_type": "text"
      },
      "source": [
        "One added bonus of logistic regression is that we can easily inspect how the\n",
        "variables influence the predicted probability. An increase in one unit in\n",
        "variable $\\beta_j$ multiplies the predicted probability by $e^{\\beta_j}$, (this\n",
        "quantity is called the relative risk). Let's look at some of the relative risks.\n",
        "\n",
        "If you look up the meanings of the variables, it seems like having some sort of\n",
        "insurance through another group makes you less likely to purchase insurance,\n",
        "which makes sense.\n",
        "\n",
        "Challenge: Some of these variables don't actually make sense as ordered\n",
        "categories (I'm surprised that ISLR completely glosses over this fact). Which\n",
        "ones, and what would you do about it?"
      ]
    },
    {
      "cell_type": "code",
      "metadata": {
        "autoscroll": false,
        "ein.hycell": false,
        "ein.tags": "worksheet-0",
        "id": "m_JnIXRz0tuV",
        "colab_type": "code",
        "colab": {},
        "outputId": "0cf3d018-4dc4-4f97-e0d4-d47cf7623f0c"
      },
      "source": [
        "beta = pd.DataFrame(np.stack([x.columns, model.coef_[0]], axis=1))\n",
        "beta.columns = [\"variable\", \"estimate\"]\n",
        "beta[\"rel_risk\"] = beta[\"estimate\"].map(np.exp)\n",
        "beta.sort_values(\"rel_risk\")"
      ],
      "execution_count": 0,
      "outputs": [
        {
          "output_type": "execute_result",
          "data": {
            "text/html": [
              "<div>\n",
              "<style scoped>\n",
              "    .dataframe tbody tr th:only-of-type {\n",
              "        vertical-align: middle;\n",
              "    }\n",
              "\n",
              "    .dataframe tbody tr th {\n",
              "        vertical-align: top;\n",
              "    }\n",
              "\n",
              "    .dataframe thead th {\n",
              "        text-align: right;\n",
              "    }\n",
              "</style>\n",
              "<table border=\"1\" class=\"dataframe\">\n",
              "  <thead>\n",
              "    <tr style=\"text-align: right;\">\n",
              "      <th></th>\n",
              "      <th>variable</th>\n",
              "      <th>estimate</th>\n",
              "      <th>rel_risk</th>\n",
              "    </tr>\n",
              "  </thead>\n",
              "  <tbody>\n",
              "    <tr>\n",
              "      <td>17</td>\n",
              "      <td>MOPLLAAG</td>\n",
              "      <td>-0.63739</td>\n",
              "      <td>0.528670</td>\n",
              "    </tr>\n",
              "    <tr>\n",
              "      <td>64</td>\n",
              "      <td>AWAPART</td>\n",
              "      <td>-0.454486</td>\n",
              "      <td>0.634774</td>\n",
              "    </tr>\n",
              "    <tr>\n",
              "      <td>74</td>\n",
              "      <td>ABROM</td>\n",
              "      <td>-0.419523</td>\n",
              "      <td>0.657360</td>\n",
              "    </tr>\n",
              "    <tr>\n",
              "      <td>62</td>\n",
              "      <td>PINBOED</td>\n",
              "      <td>-0.325707</td>\n",
              "      <td>0.722017</td>\n",
              "    </tr>\n",
              "    <tr>\n",
              "      <td>35</td>\n",
              "      <td>MZPART</td>\n",
              "      <td>-0.312181</td>\n",
              "      <td>0.731849</td>\n",
              "    </tr>\n",
              "    <tr>\n",
              "      <td>...</td>\n",
              "      <td>...</td>\n",
              "      <td>...</td>\n",
              "      <td>...</td>\n",
              "    </tr>\n",
              "    <tr>\n",
              "      <td>57</td>\n",
              "      <td>PWAOREG</td>\n",
              "      <td>0.356859</td>\n",
              "      <td>1.428835</td>\n",
              "    </tr>\n",
              "    <tr>\n",
              "      <td>58</td>\n",
              "      <td>PBRAND</td>\n",
              "      <td>0.481345</td>\n",
              "      <td>1.618250</td>\n",
              "    </tr>\n",
              "    <tr>\n",
              "      <td>43</td>\n",
              "      <td>PWAPART</td>\n",
              "      <td>0.499782</td>\n",
              "      <td>1.648362</td>\n",
              "    </tr>\n",
              "    <tr>\n",
              "      <td>27</td>\n",
              "      <td>MSKC</td>\n",
              "      <td>0.518229</td>\n",
              "      <td>1.679051</td>\n",
              "    </tr>\n",
              "    <tr>\n",
              "      <td>46</td>\n",
              "      <td>PPERSAUT</td>\n",
              "      <td>0.681597</td>\n",
              "      <td>1.977033</td>\n",
              "    </tr>\n",
              "  </tbody>\n",
              "</table>\n",
              "<p>85 rows × 3 columns</p>\n",
              "</div>"
            ],
            "text/plain": [
              "    variable  estimate  rel_risk\n",
              "17  MOPLLAAG  -0.63739  0.528670\n",
              "64   AWAPART -0.454486  0.634774\n",
              "74     ABROM -0.419523  0.657360\n",
              "62   PINBOED -0.325707  0.722017\n",
              "35    MZPART -0.312181  0.731849\n",
              "..       ...       ...       ...\n",
              "57   PWAOREG  0.356859  1.428835\n",
              "58    PBRAND  0.481345  1.618250\n",
              "43   PWAPART  0.499782  1.648362\n",
              "27      MSKC  0.518229  1.679051\n",
              "46  PPERSAUT  0.681597  1.977033\n",
              "\n",
              "[85 rows x 3 columns]"
            ]
          },
          "metadata": {
            "tags": []
          },
          "execution_count": 255
        }
      ]
    }
  ]
}